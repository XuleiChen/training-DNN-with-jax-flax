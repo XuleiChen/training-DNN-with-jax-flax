{
 "cells": [
  {
   "cell_type": "code",
   "execution_count": 22,
   "id": "7d180ece",
   "metadata": {
    "scrolled": true
   },
   "outputs": [],
   "source": [
    "import jax.numpy as jnp\n",
    "import jax\n",
    "import optax\n",
    "import matplotlib.pyplot as plt\n",
    "from scipy.io import loadmat"
   ]
  },
  {
   "cell_type": "code",
   "execution_count": 90,
   "id": "9e9495a4",
   "metadata": {},
   "outputs": [],
   "source": [
    "#load the data\n",
    "data_xi=loadmat('train_xi.mat')\n",
    "train_xi=data_xi['xi']\n",
    "train_xi=jnp.array(train_xi,dtype=jnp.float32)\n",
    "data_Q=loadmat('train_Q.mat')\n",
    "train_Q=data_Q['Q']\n",
    "train_Q=jnp.array(train_Q,dtype=jnp.float32)"
   ]
  },
  {
   "cell_type": "code",
   "execution_count": 56,
   "id": "3ac7c5c1",
   "metadata": {},
   "outputs": [],
   "source": [
    "#initialize parameters\n",
    "def initialize_parameters(key,num_hidden_layers,hidden_layer_size):\n",
    "    parameters={}\n",
    "\n",
    "    for i in range(num_hidden_layers):\n",
    "        key,subkey=jax.random.split(key)\n",
    "        weight_shape=(20 if i==0 else hidden_layer_size,hidden_layer_size)\n",
    "        parameters['W'+str(i+1)]=jax.random.normal(subkey,shape=weight_shape)*0.1\n",
    "        parameters['b'+str(i+1)]=jax.numpy.zeros((hidden_layer_size,1))\n",
    "    \n",
    "    key,subkey=jax.random.split(key)\n",
    "    weight_shape=(hidden_layer_size,20)\n",
    "    parameters[\"W\"+str(num_hidden_layers+1)]=jax.random.normal(subkey,shape=weight_shape)*0.1\n",
    "    parameters['b'+str(num_hidden_layers+1)]=jax.numpy.zeros((20,1))\n",
    "\n",
    "    return parameters"
   ]
  },
  {
   "cell_type": "code",
   "execution_count": 57,
   "id": "b186108c",
   "metadata": {},
   "outputs": [],
   "source": [
    "#forward propagation\n",
    "def forward_propagation(X,parameters):\n",
    "    L=len(parameters)//2\n",
    "    A=X\n",
    "\n",
    "    for i in range(1,L):\n",
    "        W=parameters['W'+str(i)]\n",
    "        b=parameters['b'+str(i)]\n",
    "        Z=jnp.dot(W.T,A)+b\n",
    "        A=jax.nn.relu(Z)\n",
    "    \n",
    "    W=parameters[\"W\"+str(L)]\n",
    "    b=parameters[\"b\"+str(L)]\n",
    "    Z=jnp.dot(W.T,A)+b\n",
    "\n",
    "    Z=jnp.mean(Z,axis=1,keepdims=True)\n",
    "    return Z"
   ]
  },
  {
   "cell_type": "code",
   "execution_count": 58,
   "id": "2793879d",
   "metadata": {},
   "outputs": [],
   "source": [
    "#cost function\n",
    "def compute_cost(parameters,X,Q):\n",
    "    Z=forward_propagation(X,parameters)\n",
    "    cost=jnp.mean((Z-Q)**2)\n",
    "    return cost"
   ]
  },
  {
   "cell_type": "code",
   "execution_count": 59,
   "id": "b7ee203c",
   "metadata": {},
   "outputs": [],
   "source": [
    "def minibatches(X,Y,minibatch_size):\n",
    "    num_batches=X.shape[0]//minibatch_size\n",
    "    mini_batches_X=[]\n",
    "    mini_batches_Y=[]\n",
    "    for i in range(num_batches):\n",
    "        start=i*minibatch_size\n",
    "        end=(i+1)*minibatch_size\n",
    "        mini_batch_X=X[start:end]\n",
    "        mini_batch_Y=Y[start:end]\n",
    "        mini_batches_X.append(mini_batch_X)\n",
    "        mini_batches_Y.append(mini_batch_Y)\n",
    "    return mini_batches_X,mini_batches_Y"
   ]
  },
  {
   "cell_type": "code",
   "execution_count": 88,
   "id": "a047f383",
   "metadata": {},
   "outputs": [],
   "source": [
    "# Build the model\n",
    "def model(xi_train, Q_train, learning_rate=0.0001, minibatch_size=20,\n",
    "          num_epochs=700, print_cost=True):\n",
    "    key = jax.random.PRNGKey(1)\n",
    "    costs = []\n",
    "    m = xi_train.shape[0]\n",
    "\n",
    "    # Initialize parameters\n",
    "    parameters = initialize_parameters(key, 3, 5)\n",
    "\n",
    "    # Initialize optimizer using Optax\n",
    "    optimizer = optax.adam(learning_rate)\n",
    "    optimizer_state = optimizer.init(parameters)\n",
    "\n",
    "    for epoch in range(num_epochs):\n",
    "        total_cost = 0.0\n",
    "        num_minibatches=m//minibatch_size\n",
    "        mini_batches_xi,mini_batches_Q=minibatches(xi_train,Q_train,minibatch_size)\n",
    "\n",
    "        for i in range(num_minibatches):\n",
    "            mini_batch_xi=mini_batches_xi[i]\n",
    "            mini_batch_Q=mini_batches_Q[i]\n",
    "\n",
    "            # Forward propagation\n",
    "            Z = forward_propagation(mini_batch_xi, parameters)\n",
    "\n",
    "            # Cost function\n",
    "            cost=compute_cost(parameters,mini_batch_xi,mini_batch_Q)\n",
    "            total_cost += cost\n",
    "            \n",
    "            # Backward propagation\n",
    "            # Compute grads\n",
    "            grads = jax.grad(compute_cost)(parameters,Z,mini_batch_Q)\n",
    "\n",
    "            # Update parameters using the optimizer\n",
    "            updates, optimizer_state = optimizer.update(grads, optimizer_state)\n",
    "            parameters = optax.apply_updates(parameters, updates)\n",
    "\n",
    "        # Print cost for this epoch\n",
    "        if print_cost and (epoch + 1) % 100== 0:\n",
    "            total_cost=jax.device_get(total_cost)\n",
    "            total_cost=float(total_cost)\n",
    "            print (\"Cost after epoch %i: %f\"%(epoch,total_cost))\n",
    "        if print_cost and (epoch + 1) % 50 == 0:\n",
    "            costs.append(total_cost)\n",
    "\n",
    "    plt.plot(costs)\n",
    "    plt.xlabel(\"Epochs\")\n",
    "    plt.ylabel(\"Cost\")\n",
    "    plt.title(\"Cost vs. Epochs\")\n",
    "    plt.show()\n",
    "    \n",
    "    return parameters"
   ]
  },
  {
   "cell_type": "code",
   "execution_count": 89,
   "id": "838db7dc",
   "metadata": {},
   "outputs": [
    {
     "name": "stdout",
     "output_type": "stream",
     "text": [
      "Cost after epoch 99: 0.165287\n",
      "Cost after epoch 199: 0.088186\n",
      "Cost after epoch 299: 0.044452\n",
      "Cost after epoch 399: 0.022743\n",
      "Cost after epoch 499: 0.013817\n",
      "Cost after epoch 599: 0.010946\n",
      "Cost after epoch 699: 0.010249\n"
     ]
    },
    {
     "data": {
      "image/png": "[encoded data removed]",
      "text/plain": [
       "<Figure size 640x480 with 1 Axes>"
      ]
     },
     "metadata": {},
     "output_type": "display_data"
    }
   ],
   "source": [
    "parameters=model(train_xi,train_Q)\n"
   ]
  },
  {
   "cell_type": "markdown",
   "id": "640d7e2f",
   "metadata": {},
   "source": [
    "# test"
   ]
  },
  {
   "cell_type": "code",
   "execution_count": 84,
   "id": "44c4bbce",
   "metadata": {},
   "outputs": [],
   "source": [
    "#load the test data\n",
    "data_xi=loadmat('test_xi.mat')\n",
    "test_xi=data_xi['xi']\n",
    "test_xi=jnp.array(test_xi,dtype=jnp.float32)\n",
    "\n",
    "data_Q=loadmat('test_Q.mat')\n",
    "test_Q=data_Q['Q']\n",
    "test_Q=jnp.array(test_Q,dtype=jnp.float32)"
   ]
  },
  {
   "cell_type": "code",
   "execution_count": 85,
   "id": "653fb93b",
   "metadata": {},
   "outputs": [
    {
     "name": "stdout",
     "output_type": "stream",
     "text": [
      "0.0012705321\n"
     ]
    }
   ],
   "source": [
    "prediction=forward_propagation(test_xi,parameters)\n",
    "test_cost=compute_cost(parameters,test_xi,test_Q)\n",
    "print(test_cost)"
   ]
  }
 ],
 "metadata": {
  "kernelspec": {
   "display_name": "Python 3 (ipykernel)",
   "language": "python",
   "name": "python3"
  },
  "language_info": {
   "codemirror_mode": {
    "name": "ipython",
    "version": 3
   },
   "file_extension": ".py",
   "mimetype": "text/x-python",
   "name": "python",
   "nbconvert_exporter": "python",
   "pygments_lexer": "ipython3",
   "version": "3.11.4"
  }
 },
 "nbformat": 4,
 "nbformat_minor": 5
}
